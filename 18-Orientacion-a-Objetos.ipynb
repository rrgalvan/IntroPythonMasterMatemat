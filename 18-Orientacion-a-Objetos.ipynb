{
 "cells": [
  {
   "cell_type": "markdown",
   "metadata": {},
   "source": [
    "# Programación orientada a objetos"
   ]
  },
  {
   "cell_type": "markdown",
   "metadata": {},
   "source": [
    "La idea básica en programación orientada a objetos es organizar los conceptos en **clases** o tipos de datos, cada uno de los cuales actuará como una unidad de información independiente. Estas clases se concretarán en uno o más **objetos**, instancias conretas del concepto representado pro la clase.\n",
    "\n",
    "Con más detalle:\n",
    "\n",
    "- Una clase define el conmportamiento de un nuevo concepto, mientras que un objeto es una variable concreta que representa a ese nuevo concreto.\n",
    "- Las clases y los objetos combinan datos (llamados **atributos**) y funciones que actúan sobre ellos (llamadas funciones **miembro***).\n",
    "- Las clases contienen funciones llamadas **constructores** que definen cómo debe ser creado un objeto particular.\n",
    "- Una clase puede **heredar** su comportamiento a partir de otra clase diferente y añadir o modificar sobre esta última aquello que necesite.\n",
    "\n",
    "Algunos conceptos usuales en orientación a objetos:\n",
    "\n",
    "- **Encapsulamiento**: Los objetos contienen o encapsulan datos\n",
    "- **Herencia**: Relación de jerarquía entre conceptos, según la cual una clase se deriva de (o extiende a) otra\n",
    "- **Polimorfismo**: Cada modelo, quizás derivado de otro, puede personalizar su comportamiento"
   ]
  },
  {
   "cell_type": "markdown",
   "metadata": {},
   "source": [
    "## Un ejemplo en Python: la clase \"Tortuga\"\n",
    "\n",
    "El lenguaje de programación [Logo](https://es.wikipedia.org/wiki/Logo_(lenguaje_de_programaci%C3%B3n)) fue diseñado con fines didácticos y una de sus principales características es la posibilidad de producir [gráficas de tortuga](https://es.wikipedia.org/wiki/Gr%C3%A1ficas_tortuga).\n",
    "\n",
    "Según Wikipedia: *Gráfica tortuga* es un término usado en computación gráfica como método para programar gráficos vectoriales usando un cursor relativo (la «tortuga») a unas coordenadas cartesianas. La tortuga tiene tres atributos:\n",
    "\n",
    "- Una posición\n",
    "- Una orientación\n",
    "- Una pluma, teniendo atributos como color, ancho y un indicador de pluma arriba y abajo.\n",
    "\n",
    "La tortuga se mueve con comandos relativos a su posición, como «avanza 10 » y «gira a la izquierda 90». Los valores «10» o «90» representan magnitudes diferentes, las cuales se verifican en la práctica.\n",
    "\n",
    "Vamos a concretar este concepto en una clase, en principio vacía:"
   ]
  },
  {
   "cell_type": "code",
   "execution_count": 1,
   "metadata": {},
   "outputs": [],
   "source": [
    "class Tortuga(object):\n",
    "    \"\"\"Clase que define el concepto de *cursor relativo* utilizado en gráficas de tortuga\"\"\"\n",
    "    pass"
   ]
  },
  {
   "cell_type": "markdown",
   "metadata": {},
   "source": [
    "Podemos crear un objeto de tipo ``Tortuga`` de la siguiente forma."
   ]
  },
  {
   "cell_type": "code",
   "execution_count": 2,
   "metadata": {},
   "outputs": [
    {
     "name": "stdout",
     "output_type": "stream",
     "text": [
      "Help on Tortuga in module __main__ object:\n",
      "\n",
      "class Tortuga(builtins.object)\n",
      " |  Clase que define el concepto de *cursor relativo* utilizado en gráficas de tortuga\n",
      " |  \n",
      " |  Data descriptors defined here:\n",
      " |  \n",
      " |  __dict__\n",
      " |      dictionary for instance variables (if defined)\n",
      " |  \n",
      " |  __weakref__\n",
      " |      list of weak references to the object (if defined)\n",
      "\n"
     ]
    }
   ],
   "source": [
    "casiopea = Tortuga()  # Casiopea era el nombre de la tortuga de Momo\n",
    "help(casiopea)"
   ]
  },
  {
   "cell_type": "markdown",
   "metadata": {},
   "source": [
    "En la actualidad, la clase tortuga no presenta ninguna funcionalidad. Pero en Python podemos asignar atributos a los objetos"
   ]
  },
  {
   "cell_type": "code",
   "execution_count": 3,
   "metadata": {},
   "outputs": [
    {
     "name": "stdout",
     "output_type": "stream",
     "text": [
      "Help on Tortuga in module __main__ object:\n",
      "\n",
      "class Tortuga(builtins.object)\n",
      " |  Clase que define el concepto de *cursor relativo* utilizado en gráficas de tortuga\n",
      " |  \n",
      " |  Data descriptors defined here:\n",
      " |  \n",
      " |  __dict__\n",
      " |      dictionary for instance variables (if defined)\n",
      " |  \n",
      " |  __weakref__\n",
      " |      list of weak references to the object (if defined)\n",
      "\n"
     ]
    }
   ],
   "source": [
    "casiopea.posicion = [0,0] # Situamos a esta tortuga en el origen (suponemos 2D)\n",
    "casiopea.orientacion = [0,1] # La tortuga mira hacia arriba\n",
    "casiopea.pluma_abajo = True # Tiene la pluma sobre el papel\n",
    "help(casiopea)"
   ]
  },
  {
   "cell_type": "markdown",
   "metadata": {},
   "source": [
    "Nos gustaría que todas las tortugas que construyamos tuvieran estos atributos. Para ello, podemos redefinir la clase Tortuga, dotándola de un constrctor:"
   ]
  },
  {
   "cell_type": "code",
   "execution_count": 4,
   "metadata": {},
   "outputs": [],
   "source": [
    "class Tortuga(object):\n",
    "    \"\"\"Clase que define el concepto de *cursor relativo* utilizado en gráficas de tortuga\"\"\"\n",
    "    \n",
    "    def __init__(self):\n",
    "        \"\"\"Inicializa una tortuga\"\"\"\n",
    "        self.posicion = [0,0] # Situamos a esta tortuga en el origen (suponemos 2D)\n",
    "        self.orientacion = [0,1] # La tortuga mira hacia arriba\n",
    "        self.pluma_abajo = True # Tiene la pluma sobre el papel\n",
    "        \n",
    "    def info(self):\n",
    "        \"\"\"Imprime información sobre la tortuga\"\"\"\n",
    "        print(\"Posición:    \" + str(self.posicion))\n",
    "        print(\"Orientación: \" + str(self.orientacion))\n",
    "        print(\"Pluma abajo: \"  + str(self.pluma_abajo))"
   ]
  },
  {
   "cell_type": "code",
   "execution_count": 5,
   "metadata": {},
   "outputs": [
    {
     "name": "stdout",
     "output_type": "stream",
     "text": [
      "Posición:    [0, 0]\n",
      "Orientación: [0, 1]\n",
      "Pluma abajo: True\n"
     ]
    }
   ],
   "source": [
    "casiopea = Tortuga()\n",
    "casiopea.info()"
   ]
  },
  {
   "cell_type": "markdown",
   "metadata": {},
   "source": [
    "En la siguiente versión añadimos métodos para mover y girar la tortuga:"
   ]
  },
  {
   "cell_type": "code",
   "execution_count": 6,
   "metadata": {},
   "outputs": [],
   "source": [
    "from numpy import array, sin, cos, pi, dot\n",
    "\n",
    "class Tortuga(object):\n",
    "    \"\"\"Clase que define el concepto de *cursor relativo* utilizado en gráficas de tortuga\"\"\"\n",
    "    \n",
    "    def __init__(self):\n",
    "        \"\"\"Inicializa una tortuga\"\"\"\n",
    "        self.posicion = array([0,0]) # Situamos a esta tortuga en el origen (suponemos 2D)\n",
    "        self.orientacion = array([0,1]) # La tortuga mira hacia arriba\n",
    "        self.pluma_abajo = True # Tiene la pluma sobre el papel\n",
    "        \n",
    "    def info(self):\n",
    "        \"\"\"Imprime información sobre la tortuga\"\"\"\n",
    "        print(\"Posición:    \" + str(self.posicion))\n",
    "        print(\"Orientación: \" + str(self.orientacion))\n",
    "        print(\"Pluma abajo: \" + str(self.pluma_abajo))\n",
    "        \n",
    "    def avanza(self, d):\n",
    "        \"\"\"Avanza una distancia d\"\"\"\n",
    "        self.posicion += d*self.orientacion\n",
    "        \n",
    "    def izquierda(self, a):\n",
    "        \"\"\"Gira un águlo a (en radianes) en sentido positivo\"\"\"\n",
    "        R = array( [[cos(a), -sin(a)],\n",
    "                    [sin(a),  cos(a)] ])\n",
    "        self.orientacion = dot(R, self.orientacion)\n",
    "\n",
    "    def derecha(self, a):\n",
    "        \"\"\"Gira un águlo a (en radianes) en sentido negativo\"\"\"\n",
    "        R = array( [[ cos(a), sin(a)],\n",
    "                    [-sin(a), cos(a)] ])\n",
    "        self.orientacion = dot(R, self.orientacion)\n"
   ]
  },
  {
   "cell_type": "code",
   "execution_count": 7,
   "metadata": {},
   "outputs": [
    {
     "name": "stdout",
     "output_type": "stream",
     "text": [
      "Posición:    [0 0]\n",
      "Orientación: [0 1]\n",
      "Pluma abajo: True\n",
      "\n",
      "Posición:    [0 5]\n",
      "Orientación: [0 1]\n",
      "Pluma abajo: True\n",
      "\n",
      "Posición:    [0 5]\n",
      "Orientación: [ -1.00000000e+00   6.12323400e-17]\n",
      "Pluma abajo: True\n",
      "\n",
      "Posición:    [0 5]\n",
      "Orientación: [ 0.  1.]\n",
      "Pluma abajo: True\n",
      "\n"
     ]
    }
   ],
   "source": [
    "casiopea = Tortuga()\n",
    "casiopea.info()\n",
    "print()\n",
    "\n",
    "casiopea.avanza(5)\n",
    "casiopea.info()\n",
    "print()\n",
    "\n",
    "casiopea.izquierda(pi/2)\n",
    "casiopea.info()\n",
    "print()\n",
    "\n",
    "casiopea.derecha(pi/2)\n",
    "casiopea.info()\n",
    "print()"
   ]
  },
  {
   "cell_type": "markdown",
   "metadata": {},
   "source": [
    "## Herencia: Una tortuga que almacena la ruta\n",
    "\n",
    "Como ejemplo de herencia, vamos a definir una clase derivada de ``Tortuga`` en la que los objetos tienen memoria en el siguiente sentido: se almacena la ruta seguida por la tortuga (en forma de lista de puntos).\n",
    "\n",
    "Se definirá una clase llamada ``TortugaConMemoria`` derivada de la clase ``Tortuga``. En términos de orientación a objetos, de dice también que ``Tortuga`` es una super-clase de (la sub-clase) ``TortugaConMemoria``."
   ]
  },
  {
   "cell_type": "code",
   "execution_count": 43,
   "metadata": {},
   "outputs": [],
   "source": [
    "from numpy import allclose\n",
    "\n",
    "class TortugaConMemoria(Tortuga):\n",
    "    def __init__(self):\n",
    "        super().__init__()  # Inicializar la super-clase tortuga\n",
    "        self.ruta = [self.posicion.copy()]\n",
    "    \n",
    "    def guarda_posicion(self):\n",
    "        if not allclose( self.posicion, self.ruta[-1]):\n",
    "            self.ruta.append(self.posicion.copy())\n",
    "        \n",
    "    def avanza(self,d):\n",
    "        super(TortugaConMemoria, self).avanza(d)\n",
    "        self.guarda_posicion()\n",
    "        \n",
    "    def info(self):\n",
    "        super(TortugaConMemoria, self).info()\n",
    "        print(\"Ruta: \" + str(self.ruta))    "
   ]
  },
  {
   "cell_type": "code",
   "execution_count": 42,
   "metadata": {},
   "outputs": [
    {
     "name": "stdout",
     "output_type": "stream",
     "text": [
      "Posición:    [0 0]\n",
      "Orientación: [0 1]\n",
      "Pluma abajo: True\n",
      "Ruta: [array([0, 0])]\n",
      "\n",
      "Posición:    [ 0 10]\n",
      "Orientación: [0 1]\n",
      "Pluma abajo: True\n",
      "Ruta: [array([0, 0]), array([ 0, 10])]\n"
     ]
    }
   ],
   "source": [
    "t = TortugaConMemoria()\n",
    "t.info()\n",
    "print()\n",
    "t.avanza(10)\n",
    "t.info()"
   ]
  },
  {
   "cell_type": "code",
   "execution_count": null,
   "metadata": {},
   "outputs": [],
   "source": []
  }
 ],
 "metadata": {
  "kernelspec": {
   "display_name": "Python 3",
   "language": "python",
   "name": "python3"
  },
  "language_info": {
   "codemirror_mode": {
    "name": "ipython",
    "version": 3
   },
   "file_extension": ".py",
   "mimetype": "text/x-python",
   "name": "python",
   "nbconvert_exporter": "python",
   "pygments_lexer": "ipython3",
   "version": "3.6.7"
  }
 },
 "nbformat": 4,
 "nbformat_minor": 2
}
