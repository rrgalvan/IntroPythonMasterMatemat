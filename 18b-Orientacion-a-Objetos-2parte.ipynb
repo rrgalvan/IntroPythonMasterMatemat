{
 "cells": [
  {
   "cell_type": "markdown",
   "metadata": {},
   "source": [
    "# Programación orientada a objetos"
   ]
  },
  {
   "cell_type": "markdown",
   "metadata": {},
   "source": [
    "La idea básica en programación orientada a objetos es organizar los conceptos en **clases** o tipos de datos, cada uno de los cuales actuará como una unidad de información independiente. Estas clases se concretarán en uno o más **objetos**, instancias conretas del concepto representado pro la clase.\n",
    "\n",
    "Con más detalle:\n",
    "\n",
    "- Una clase define el conmportamiento de un nuevo concepto, mientras que un objeto es una variable concreta que representa a ese nuevo concreto.\n",
    "- Las clases y los objetos combinan datos (llamados **atributos**) y funciones que actúan sobre ellos (llamadas funciones **miembro***).\n",
    "- Las clases contienen funciones llamadas **constructores** que definen cómo debe ser creado un objeto particular.\n",
    "- Una clase puede **heredar** su comportamiento a partir de otra clase diferente y añadir o modificar sobre esta última aquello que necesite.\n",
    "\n",
    "Algunos conceptos usuales en orientación a objetos:\n",
    "\n",
    "- **Encapsulamiento**: Los objetos contienen o encapsulan datos\n",
    "- **Herencia**: Relación de jerarquía entre conceptos, según la cual una clase se deriva de (o extiende a) otra\n",
    "- **Polimorfismo**: Cada modelo, quizás derivado de otro, puede personalizar su comportamiento"
   ]
  },
  {
   "cell_type": "markdown",
   "metadata": {},
   "source": [
    "## Un ejemplo en Python: la clase \"Tortuga\"\n",
    "\n",
    "El lenguaje de programación [Logo](https://es.wikipedia.org/wiki/Logo_(lenguaje_de_programaci%C3%B3n)) fue diseñado con fines didácticos y una de sus principales características es la posibilidad de producir [gráficas de tortuga](https://es.wikipedia.org/wiki/Gr%C3%A1ficas_tortuga).\n",
    "\n",
    "Según Wikipedia: *Gráfica tortuga* es un término usado en computación gráfica como método para programar gráficos vectoriales usando un cursor relativo (la «tortuga») a unas coordenadas cartesianas. La tortuga tiene tres atributos:\n",
    "\n",
    "- Una posición\n",
    "- Una orientación\n",
    "- Una pluma, teniendo atributos como color, ancho y un indicador de pluma arriba y abajo.\n",
    "\n",
    "La tortuga se mueve con comandos relativos a su posición, como «avanza 10 » y «gira a la izquierda 90». Los valores «10» o «90» representan magnitudes diferentes, las cuales se verifican en la práctica.\n",
    "\n",
    "Vamos a concretar este concepto en una clase, en principio vacía:"
   ]
  },
  {
   "cell_type": "code",
   "execution_count": 1,
   "metadata": {},
   "outputs": [],
   "source": [
    "class Tortuga(object):\n",
    "    \"\"\"Clase que define el concepto de *cursor relativo* utilizado en gráficas de tortuga\"\"\"\n",
    "    pass"
   ]
  },
  {
   "cell_type": "markdown",
   "metadata": {},
   "source": [
    "Podemos crear un objeto de tipo ``Tortuga`` de la siguiente forma."
   ]
  },
  {
   "cell_type": "code",
   "execution_count": 2,
   "metadata": {},
   "outputs": [
    {
     "name": "stdout",
     "output_type": "stream",
     "text": [
      "Help on Tortuga in module __main__ object:\n",
      "\n",
      "class Tortuga(builtins.object)\n",
      " |  Clase que define el concepto de *cursor relativo* utilizado en gráficas de tortuga\n",
      " |  \n",
      " |  Data descriptors defined here:\n",
      " |  \n",
      " |  __dict__\n",
      " |      dictionary for instance variables (if defined)\n",
      " |  \n",
      " |  __weakref__\n",
      " |      list of weak references to the object (if defined)\n",
      "\n"
     ]
    }
   ],
   "source": [
    "casiopea = Tortuga()  # Casiopea era el nombre de la tortuga de Momo\n",
    "help(casiopea)"
   ]
  },
  {
   "cell_type": "markdown",
   "metadata": {},
   "source": [
    "En la actualidad, la clase tortuga no presenta ninguna funcionalidad. Pero en Python podemos asignar atributos a los objetos"
   ]
  },
  {
   "cell_type": "code",
   "execution_count": 3,
   "metadata": {},
   "outputs": [
    {
     "name": "stdout",
     "output_type": "stream",
     "text": [
      "Help on Tortuga in module __main__ object:\n",
      "\n",
      "class Tortuga(builtins.object)\n",
      " |  Clase que define el concepto de *cursor relativo* utilizado en gráficas de tortuga\n",
      " |  \n",
      " |  Data descriptors defined here:\n",
      " |  \n",
      " |  __dict__\n",
      " |      dictionary for instance variables (if defined)\n",
      " |  \n",
      " |  __weakref__\n",
      " |      list of weak references to the object (if defined)\n",
      "\n"
     ]
    }
   ],
   "source": [
    "casiopea.posicion = [0,0] # Situamos a esta tortuga en el origen (suponemos 2D)\n",
    "casiopea.orientacion = [0,1] # La tortuga mira hacia arriba\n",
    "casiopea.pluma_abajo = True # Tiene la pluma sobre el papel\n",
    "help(casiopea)"
   ]
  },
  {
   "cell_type": "markdown",
   "metadata": {},
   "source": [
    "Nos gustaría que todas las tortugas que construyamos tuvieran estos atributos. Para ello, podemos redefinir la clase Tortuga, dotándola de un constructor. En Python los constructores se definen a través de una función miembro llamada ``__init__`` (con doble guión bajo a izquierda y derecha).\n",
    "\n",
    "Vamos a añadir un nuevo atributo a la tortuga: un color (que luego asociaremos al color de pluma)"
   ]
  },
  {
   "cell_type": "code",
   "execution_count": 4,
   "metadata": {},
   "outputs": [],
   "source": [
    "class Tortuga(object):\n",
    "    \"\"\"Clase que define el concepto de *cursor relativo* utilizado en gráficas de tortuga\"\"\"\n",
    "    \n",
    "    def __init__(self, posicion=[0,0], orientacion=[1,0], color=\"Negro\"):\n",
    "        \"\"\"Constructor: inicializa una tortuga\"\"\"\n",
    "        self.posicion = posicion # Situamos a esta tortuga en el origen (suponemos 2D)\n",
    "        self.orientacion = orientacion # La tortuga mira hacia arriba\n",
    "        self.pluma_abajo = True # Tiene la pluma sobre el papel\n",
    "        self.color = color\n",
    "        \n",
    "    def info(self):\n",
    "        \"\"\"Imprime información sobre la tortuga\"\"\"\n",
    "        print(\"Posición:    \" + str(self.posicion))\n",
    "        print(\"Orientación: \" + str(self.orientacion))\n",
    "        print(\"Color:       \" + str(self.color))\n",
    "        print(\"Pluma abajo: \" + str(self.pluma_abajo))\n",
    "        \n",
    "    def __str__(self):\n",
    "        \"\"\"\n",
    "        Devuelve una representación de tipo string del objeto. \n",
    "        Es usada en particular por las funciones print() y chr()\n",
    "        \"\"\"\n",
    "        s = \"P=%s, V=%s, C=%s, p=%s\" % (self.posicion, self.orientacion, self.color, self.pluma_abajo)\n",
    "        return s"
   ]
  },
  {
   "cell_type": "code",
   "execution_count": 5,
   "metadata": {},
   "outputs": [
    {
     "name": "stdout",
     "output_type": "stream",
     "text": [
      "Posición:    [0, 0]\n",
      "Orientación: [1, 0]\n",
      "Color:       Negro\n",
      "Pluma abajo: True\n",
      "-----\n",
      "Casiopea: P=[0, 0], V=[1, 0], C=Negro, p=True\n"
     ]
    }
   ],
   "source": [
    "casiopea = Tortuga()\n",
    "casiopea.info()\n",
    "print(\"-----\")\n",
    "print(\"Casiopea:\", casiopea)"
   ]
  },
  {
   "cell_type": "markdown",
   "metadata": {},
   "source": [
    "Los objetos que definimos pueden aprovechar todas las características de Python. Por ejemplo, podríamos hacer una lista comprehensiva de tortugas:"
   ]
  },
  {
   "cell_type": "code",
   "execution_count": 6,
   "metadata": {},
   "outputs": [
    {
     "name": "stdout",
     "output_type": "stream",
     "text": [
      "P=[0, 0], V=[1, 0], C=Azul, p=True\n"
     ]
    }
   ],
   "source": [
    "lista_tortugas = [Tortuga(color=c) for c in (\"Azul\", \"Rojo\", \"Naranja\", \"Violeta\") ]\n",
    "print(lista_tortugas[0])"
   ]
  },
  {
   "cell_type": "markdown",
   "metadata": {},
   "source": [
    "O un diccionario de Tortugas Ninja ;-)"
   ]
  },
  {
   "cell_type": "code",
   "execution_count": 7,
   "metadata": {},
   "outputs": [
    {
     "name": "stdout",
     "output_type": "stream",
     "text": [
      "Leonardo...\tP=[0, 0], V=[1, 0], C=Azul, p=True\n",
      "Rafael...\tP=[0, 0], V=[1, 0], C=Rojo, p=True\n",
      "Michelangelo...\tP=[0, 0], V=[1, 0], C=Naranja, p=True\n",
      "Donatello...\tP=[0, 0], V=[1, 0], C=Violeta, p=True\n"
     ]
    }
   ],
   "source": [
    "tortugas_ninja = { \n",
    "    \"Leonardo\": Tortuga(color=\"Azul\"),\n",
    "    \"Rafael\" : Tortuga(color=\"Rojo\"),\n",
    "    \"Michelangelo\" : Tortuga(color=\"Naranja\"),\n",
    "    \"Donatello\" : Tortuga(color=\"Violeta\")\n",
    "}\n",
    "for nombre in tortugas_ninja.keys():\n",
    "    print(nombre + \"...\\t\" + str(tortugas_ninja[nombre]))"
   ]
  },
  {
   "cell_type": "markdown",
   "metadata": {},
   "source": [
    "## Moviendo la tortuga en el plano\n",
    "\n",
    "En la siguiente versión añadimos métodos para mover y girar la tortuga. "
   ]
  },
  {
   "cell_type": "code",
   "execution_count": 8,
   "metadata": {},
   "outputs": [],
   "source": [
    "from numpy import array, sin, cos, pi, dot\n",
    "\n",
    "class Tortuga(object):\n",
    "    \"\"\"Clase que define el concepto de *cursor relativo* utilizado en gráficas de tortuga\"\"\"\n",
    "    \n",
    "    def __init__(self, posicion=[0,0], orientacion=[1,0], color=\"Negro\"):\n",
    "        \"\"\"Constructor: inicializa una tortuga\"\"\"\n",
    "        self.posicion = array(posicion, dtype='float64') # array de coma flotante\n",
    "        self.orientacion = array(orientacion, dtype='float64')\n",
    "        self.pluma_abajo = True \n",
    "        self.color = color\n",
    "        \n",
    "    def info(self):\n",
    "        \"\"\"Imprime información sobre la tortuga\"\"\"\n",
    "        print(\"Posición:    \" + str(self.posicion))\n",
    "        print(\"Orientación: \" + str(self.orientacion))\n",
    "        print(\"Color:       \" + str(self.color))\n",
    "        print(\"Pluma abajo: \" + str(self.pluma_abajo))\n",
    "\n",
    "    def __str__(self):\n",
    "        \"\"\"\n",
    "        Devuelve una representación de tipo string del objeto. \n",
    "        Es usada en particular por las funciones print() y chr()\n",
    "        \"\"\"\n",
    "        s = \"P=%s, V=%s, C=%s, p=%s\" % (self.posicion, self.orientacion, self.color, self.pluma_abajo)\n",
    "        return s\n",
    "    \n",
    "    def avanza(self, d):\n",
    "        \"\"\"Avanza una distancia d\"\"\"\n",
    "        self.posicion += d*self.orientacion\n",
    "        \n",
    "    def izquierda(self, a):\n",
    "        \"\"\"Gira un águlo a (en radianes) en sentido positivo\"\"\"\n",
    "        R = array( [[cos(a), -sin(a)],\n",
    "                    [sin(a),  cos(a)] ])\n",
    "        self.orientacion = dot(R, self.orientacion)\n",
    "\n",
    "    def derecha(self, a):\n",
    "        \"\"\"Gira un águlo a (en radianes) en sentido negativo\"\"\"\n",
    "        R = array( [[ cos(a), sin(a)],\n",
    "                    [-sin(a), cos(a)] ])\n",
    "        self.orientacion = dot(R, self.orientacion)\n"
   ]
  },
  {
   "cell_type": "code",
   "execution_count": 9,
   "metadata": {},
   "outputs": [
    {
     "name": "stdout",
     "output_type": "stream",
     "text": [
      "P=[ 0.  0.], V=[ 1.  0.], C=Negro, p=True\n",
      "P=[ 5.  0.], V=[ 1.  0.], C=Negro, p=True\n",
      "P=[ 5.  0.], V=[  6.12323400e-17   1.00000000e+00], C=Negro, p=True\n",
      "P=[ 5.  0.], V=[ 1.  0.], C=Negro, p=True\n"
     ]
    }
   ],
   "source": [
    "casiopea = Tortuga()\n",
    "print(casiopea)\n",
    "\n",
    "casiopea.avanza(5)\n",
    "print(casiopea)\n",
    "\n",
    "casiopea.izquierda(pi/2)\n",
    "print(casiopea)\n",
    "\n",
    "casiopea.derecha(pi/2)\n",
    "print(casiopea)"
   ]
  },
  {
   "cell_type": "markdown",
   "metadata": {},
   "source": [
    "## Herencia: Una tortuga que almacena la ruta\n",
    "\n",
    "Como ejemplo de herencia, vamos a definir una clase derivada de ``Tortuga`` en la que los objetos tienen memoria en el siguiente sentido: se almacena la ruta seguida por la tortuga (en forma de lista de puntos).\n",
    "\n",
    "Se definirá una clase llamada ``TortugaConMemoria`` derivada de la clase ``Tortuga``. En términos de orientación a objetos, de dice también que ``Tortuga`` es una super-clase de (la sub-clase) ``TortugaConMemoria``."
   ]
  },
  {
   "cell_type": "code",
   "execution_count": 10,
   "metadata": {},
   "outputs": [],
   "source": [
    "from numpy import allclose\n",
    "import matplotlib.pylab as plt\n",
    "from matplotlib.colors import to_rgba_array\n",
    "\n",
    "class TortugaConMemoria(Tortuga):\n",
    "    def __init__(self, posicion=[0,0], orientacion=[1,0], color=\"Negro\"):\n",
    "        super().__init__(posicion, orientacion, color)  # Inicializar la super-clase tortuga\n",
    "        self.ruta = [self.posicion.copy()]\n",
    "    \n",
    "    def guarda_posicion(self):\n",
    "        # Sólo guardamos la nueva posición si ésta es diferente a la posición anteior.\n",
    "        # Si, por ejemplo, escribimos avanza(0) no tiene sentido guardar de nuevo\n",
    "        # la posición en la ruta. Para evitar la igualdad en coma flotante, usamos la función\n",
    "        # \"allclose\" que comprueba que todos los elementos del array están a distancia < epsilon\n",
    "        if not allclose( self.posicion, self.ruta[-1]):\n",
    "            self.ruta.append(self.posicion.copy())\n",
    "        \n",
    "    def avanza(self,d):\n",
    "        super(TortugaConMemoria, self).avanza(d)\n",
    "        self.guarda_posicion()\n",
    "        \n",
    "    def info(self):\n",
    "        super(TortugaConMemoria, self).info()\n",
    "        print(\"Ruta: \" + str(self.ruta))    \n",
    "        \n",
    "    def plot(self, figsize=(6,6), ticks=False):\n",
    "        # 1. Cosméticca\n",
    "        plt.figure(figsize=figsize) # Tamaño de la gráfica (en pulgadas)\n",
    "        if not ticks: # ¿Dibujar marcas en los ejes?\n",
    "            ax = plt.gca() # Get current axis\n",
    "            ax.set_xticks([])\n",
    "            ax.set_yticks([])\n",
    "\n",
    "        x = [P[0] for P in self.ruta] # Usamos \"list comprehension\"\n",
    "        y = [P[1] for P in self.ruta] # Usamos \"list comprehension\"\n",
    "        try: \n",
    "            # Intentamos dibujar con color\n",
    "            to_rgba_array(self.color) # self.color, ¿se puede convertir en color Red/Green/Blue?\n",
    "            plt.plot(x, y, color=self.color)\n",
    "        except:\n",
    "            # Si el código anterior arroja una excepción porque no conoce el color:\n",
    "            plt.plot(x, y, color=\"black\")"
   ]
  },
  {
   "cell_type": "markdown",
   "metadata": {},
   "source": [
    "Ahora creamos y usamos una tortuga. Se puede comprobar que las clases derivadas heredan los atributos y funciones miembro de la superclase, por ejemplo la función ``derecha()``:"
   ]
  },
  {
   "cell_type": "code",
   "execution_count": 11,
   "metadata": {},
   "outputs": [
    {
     "name": "stdout",
     "output_type": "stream",
     "text": [
      "Posición:    [ 0.  0.]\n",
      "Orientación: [ 1.  0.]\n",
      "Color:       Verde\n",
      "Pluma abajo: True\n",
      "Ruta: [array([ 0.,  0.])]\n",
      "\n",
      "Posición:    [ 10.   0.]\n",
      "Orientación: [ 1.  0.]\n",
      "Color:       Verde\n",
      "Pluma abajo: True\n",
      "Ruta: [array([ 0.,  0.]), array([ 10.,   0.])]\n",
      "\n",
      "Posición:    [ 10.   0.]\n",
      "Orientación: [  6.12323400e-17  -1.00000000e+00]\n",
      "Color:       Verde\n",
      "Pluma abajo: True\n",
      "Ruta: [array([ 0.,  0.]), array([ 10.,   0.])]\n"
     ]
    }
   ],
   "source": [
    "t = TortugaConMemoria(color=\"Verde\")\n",
    "t.info(); print()\n",
    "t.avanza(10)\n",
    "t.info(); print()\n",
    "t.derecha(pi/2)  # Ésta es una función de la super-clase Tortuga\n",
    "t.info()"
   ]
  },
  {
   "cell_type": "code",
   "execution_count": 12,
   "metadata": {},
   "outputs": [
    {
     "data": {
      "image/png": "[encoded data removed]",
      "text/plain": [
       "<matplotlib.figure.Figure at 0x7f5865cab6d8>"
      ]
     },
     "metadata": {},
     "output_type": "display_data"
    }
   ],
   "source": [
    "def dibuja_cuadrado(lado):\n",
    "    \"Función que dibuja un cuadrado usando 'geometría de tortuga'\"\n",
    "    t = TortugaConMemoria(color=\"red\")\n",
    "    for i in range(4):\n",
    "        t.avanza(lado)\n",
    "        t.izquierda(pi/2)\n",
    "    t.plot()\n",
    "    \n",
    "dibuja_cuadrado(5)"
   ]
  },
  {
   "cell_type": "code",
   "execution_count": 13,
   "metadata": {},
   "outputs": [],
   "source": [
    "def espiro(ángulo, máximo, lado=1, color=\"blue\", infinito=20):\n",
    "    \"\"\"\n",
    "    Gráfico de una 'curva epirolateral'\n",
    "    Un patrón se repite \"infinitas veces\" (un número de veces sifuciente para cerrar la curva)\n",
    "    \"\"\"\n",
    "    tortuga = TortugaConMemoria(color=color)\n",
    "    for veces in range(infinito):\n",
    "        contador = 1\n",
    "        while contador <= máximo:\n",
    "            tortuga.avanza(contador*lado)\n",
    "            tortuga.derecha(ángulo)\n",
    "            contador += 1\n",
    "    tortuga.plot()"
   ]
  },
  {
   "cell_type": "code",
   "execution_count": 14,
   "metadata": {},
   "outputs": [
    {
     "data": {
      "image/png": "[encoded data removed]",
      "text/plain": [
       "<matplotlib.figure.Figure at 0x7f5863c91198>"
      ]
     },
     "metadata": {},
     "output_type": "display_data"
    }
   ],
   "source": [
    "espiro(ángulo=pi/2, máximo=10)"
   ]
  },
  {
   "cell_type": "code",
   "execution_count": 15,
   "metadata": {},
   "outputs": [
    {
     "data": {
      "image/png": "[encoded data removed]",
      "text/plain": [
       "<matplotlib.figure.Figure at 0x7f5863c91630>"
      ]
     },
     "metadata": {},
     "output_type": "display_data"
    }
   ],
   "source": [
    "espiro(ángulo=4*pi/5, máximo=8, color=\"green\")"
   ]
  },
  {
   "cell_type": "code",
   "execution_count": 23,
   "metadata": {},
   "outputs": [],
   "source": [
    "def dibujar_lado_copo(tortuga, tamaño, nivel):\n",
    "    if nivel==0:\n",
    "        tortuga.avanza(tamaño)\n",
    "    else:\n",
    "        dibujar_lado_copo(tortuga, tamaño/3, nivel-1)\n",
    "        tortuga.izquierda(pi/3)\n",
    "        dibujar_lado_copo(tortuga, tamaño/3, nivel-1)\n",
    "        tortuga.derecha(2*pi/3)\n",
    "        dibujar_lado_copo(tortuga, tamaño/3, nivel-1)\n",
    "        tortuga.izquierda(pi/3)\n",
    "        dibujar_lado_copo(tortuga, tamaño/3, nivel-1)\n",
    "        \n",
    "def copo_nieve(nivel, color=\"cyan\"):\n",
    "    tortuga = TortugaConMemoria(color=color)\n",
    "    tamaño=1\n",
    "    for veces in range(3):\n",
    "        dibujar_lado_copo(tortuga, tamaño, nivel)\n",
    "        tortuga.derecha(2*pi/3)\n",
    "    tortuga.plot(figsize=(9,9))"
   ]
  },
  {
   "cell_type": "code",
   "execution_count": 17,
   "metadata": {},
   "outputs": [
    {
     "data": {
      "image/png": "[encoded data removed]",
      "text/plain": [
       "<matplotlib.figure.Figure at 0x7f5863c3e278>"
      ]
     },
     "metadata": {},
     "output_type": "display_data"
    }
   ],
   "source": [
    "copo_nieve(nivel=4)"
   ]
  },
  {
   "cell_type": "markdown",
   "metadata": {},
   "source": [
    "### Podemos usar `ipywidgets` para interaccionar con la tortuga \n",
    "\n",
    "---\n",
    "\n",
    "**Atención**: esta sección debe ejecutarse en un *notebook* local, pues no es posible intereaccionar con los *widgets* de Ipython (deslizadores, selectores de valores, etc) a través de internet.\n",
    "\n",
    "Para interaccionar con los *widgets*, se puede [descargar de internet](https://nbviewer.jupyter.org) el *notebook* (a un fichero ``.ipynb`` local) y luego abrirlo con *Jupyter*. También se pueden [descargar todos los *notebooks* desde Github](https://github.com/rrgalvan/IntroPythonMasterMatemat) (pulsar \"Clone or download\").\n",
    "\n",
    "---"
   ]
  },
  {
   "cell_type": "code",
   "execution_count": 25,
   "metadata": {},
   "outputs": [
    {
     "data": {
      "application/vnd.jupyter.widget-view+json": {
       "model_id": "1454f53df69340bebd13a6185f0ae85a",
       "version_major": 2,
       "version_minor": 0
      },
      "text/plain": [
       "interactive(children=(IntSlider(value=2, description='nivel', max=5), Dropdown(description='color', index=3, o…"
      ]
     },
     "metadata": {},
     "output_type": "display_data"
    },
    {
     "data": {
      "text/plain": [
       "<function __main__.copo_nieve>"
      ]
     },
     "execution_count": 25,
     "metadata": {},
     "output_type": "execute_result"
    }
   ],
   "source": [
    "from ipywidgets import *\n",
    "\n",
    "# Manejamos la función copo_nieve de forma interactiva\n",
    "interact(copo_nieve, \n",
    "         nivel = (0,5), \n",
    "         color = [\"orange\",\"green\",\"blue\",\"cyan\"] )\n"
   ]
  },
  {
   "cell_type": "markdown",
   "metadata": {},
   "source": [
    "### También usamos *widgets* para dibujar espirolaterales de forma interactiva"
   ]
  },
  {
   "cell_type": "code",
   "execution_count": 19,
   "metadata": {},
   "outputs": [
    {
     "data": {
      "application/vnd.jupyter.widget-view+json": {
       "model_id": "558a9103e97447c9b523b251f77113d5",
       "version_major": 2,
       "version_minor": 0
      },
      "text/plain": [
       "interactive(children=(BoundedIntText(value=170, description='Grados', max=360, step=5), BoundedIntText(value=4…"
      ]
     },
     "metadata": {},
     "output_type": "display_data"
    },
    {
     "data": {
      "text/plain": [
       "<function __main__.espiro_grados>"
      ]
     },
     "execution_count": 19,
     "metadata": {},
     "output_type": "execute_result"
    }
   ],
   "source": [
    "# Es más intuitivo si defino la espirolateral con ángulos dados en grados\n",
    "def espiro_grados(grados, máximo, color):\n",
    "    \"Curva espirolateral en la que los ángulos se definen en grados\"\n",
    "    radianes = grados*pi/180\n",
    "    espiro(ángulo=radianes, máximo=máximo, color=color)\n",
    "\n",
    "interact(espiro_grados, \n",
    "         grados = BoundedIntText(description=\"Grados\", min=0, max=360, value=170, step=5),\n",
    "         máximo = BoundedIntText(description=\"Máximo\", min=0,max=60, value=40),\n",
    "         color  = ColorPicker(description='Escoge color', value='slateblue' ) )"
   ]
  },
  {
   "cell_type": "code",
   "execution_count": null,
   "metadata": {},
   "outputs": [],
   "source": []
  }
 ],
 "metadata": {
  "kernelspec": {
   "display_name": "Python 3",
   "language": "python",
   "name": "python3"
  },
  "language_info": {
   "codemirror_mode": {
    "name": "ipython",
    "version": 3
   },
   "file_extension": ".py",
   "mimetype": "text/x-python",
   "name": "python",
   "nbconvert_exporter": "python",
   "pygments_lexer": "ipython3",
   "version": "3.6.7"
  }
 },
 "nbformat": 4,
 "nbformat_minor": 2
}
