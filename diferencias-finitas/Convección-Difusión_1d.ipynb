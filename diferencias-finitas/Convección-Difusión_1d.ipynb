{
 "cells": [
  {
   "cell_type": "code",
   "execution_count": 33,
   "metadata": {},
   "outputs": [
    {
     "data": {
      "application/vnd.jupyter.widget-view+json": {
       "model_id": "2f421af4d47b432d81e2f6da6abbc43e",
       "version_major": 2,
       "version_minor": 0
      },
      "text/plain": [
       "interactive(children=(IntSlider(value=1, description='c', max=50), IntSlider(value=20, description='n', max=40…"
      ]
     },
     "metadata": {},
     "output_type": "display_data"
    },
    {
     "data": {
      "text/plain": [
       "<function __main__.solución(c=1, n=20)>"
      ]
     },
     "execution_count": 33,
     "metadata": {},
     "output_type": "execute_result"
    }
   ],
   "source": [
    "from numpy import diag, ones, linspace, array\n",
    "import ipywidgets\n",
    "\n",
    "def conv_difus_1d(f, c, ua, ub, n, a=0, b=1):\n",
    "    \"\"\"\n",
    "    Esta función resuelve el problema de convección-difusión 1d\n",
    "        c u' - u''  = f     en [a,b]\n",
    "        u(a) = ua\n",
    "        u(b) = ub\n",
    "    mediante el método de las diferencias finitas sobre n+1 intervalos\n",
    "    \"\"\"\n",
    "    h = (b-a)/(n+1) # Tamaño de la partición\n",
    "        # 1. Matriz\n",
    "        \n",
    "    cte = 1-c*h\n",
    "    A_h = (1./h**2) * (\n",
    "            2*diag( ones(n) ) \n",
    "            - cte * diag( ones(n-1), +1 ) \n",
    "            - cte * diag( ones(n-1), -1)\n",
    "            )\n",
    "    # 2. Segundo miembro\n",
    "    f_h = []\n",
    "    x = linspace(0, 1, num=n+2) # x_0, ..., x_{n-1}\n",
    "    x_interior = x[1:n+1]\n",
    "    \n",
    "    f_h = f(x_interior) # f_h es el array resultante de aplicar f a cada elmento del array x\n",
    "    f_h[0]  += ua/h**2\n",
    "    f_h[-1] += ub/h**2\n",
    "    \n",
    "    # 3. Resolver sistema\n",
    "    from numpy.linalg import solve\n",
    "    u_h = solve(A_h, f_h)\n",
    "\n",
    "    # Concatenamos la solución con los datos en los extremos del intervalo\n",
    "    u = array( [ua] + list(u_h) + [ub] )\n",
    "    \n",
    "    # Devolvemos la partición x y la solución obtenida\n",
    "    return x, u\n",
    "\n",
    "f = lambda x: 2 + 0*x\n",
    "\n",
    "def solución(c=1,n=20):\n",
    "    x_h, u_h = conv_difus_1d(f, c, ua=0, ub=1, n=int(n))\n",
    "\n",
    "    from matplotlib.pylab import plot, show, grid, legend\n",
    "    plot(x_h, u_h, label=\"Solución aproximada\", linewidth=3, color=\"green\")\n",
    "    grid()\n",
    "    legend()\n",
    "    show()\n",
    "    \n",
    "ipywidgets.interact( solución, c=(0,50), n=(2,40))\n",
    "#solución(-10000)"
   ]
  },
  {
   "cell_type": "code",
   "execution_count": 34,
   "metadata": {},
   "outputs": [],
   "source": [
    "\n",
    "def upwind_conv_difus_1d(f, c, ua, ub, n, a=0, b=1):\n",
    "    \"\"\"\n",
    "    Esta función resuelve el problema de convección-difusión 1d\n",
    "        c u' - u''  = f     en [a,b]\n",
    "        u(a) = ua\n",
    "        u(b) = ub\n",
    "    mediante el método de las diferencias finitas sobre n+1 intervalos\n",
    "    \"\"\"\n",
    "    h = (b-a)/(n+1) # Tamaño de la partición\n",
    "        # 1. Matriz\n",
    "        \n",
    "    cte = 1-c*h\n",
    "    A_h = (1./h**2) * (\n",
    "            2*diag( ones(n) ) \n",
    "            - cte * diag( ones(n-1), +1 ) \n",
    "            - cte * diag( ones(n-1), -1)\n",
    "            )\n",
    "    # 2. Segundo miembro\n",
    "    f_h = []\n",
    "    x = linspace(0, 1, num=n+2) # x_0, ..., x_{n-1}\n",
    "    x_interior = x[1:n+1]\n",
    "    \n",
    "    f_h = f(x_interior) # f_h es el array resultante de aplicar f a cada elmento del array x\n",
    "    f_h[0]  += ua/h**2\n",
    "    f_h[-1] += ub/h**2\n",
    "    \n",
    "    # 3. Resolver sistema\n",
    "    from numpy.linalg import solve\n",
    "    u_h = solve(A_h, f_h)\n",
    "\n",
    "    # Concatenamos la solución con los datos en los extremos del intervalo\n",
    "    u = array( [ua] + list(u_h) + [ub] )\n",
    "    \n",
    "    # Devolvemos la partición x y la solución obtenida\n",
    "    return x, u\n"
   ]
  },
  {
   "cell_type": "code",
   "execution_count": null,
   "metadata": {},
   "outputs": [],
   "source": []
  }
 ],
 "metadata": {
  "kernelspec": {
   "display_name": "Python 3",
   "language": "python",
   "name": "python3"
  },
  "language_info": {
   "codemirror_mode": {
    "name": "ipython",
    "version": 3
   },
   "file_extension": ".py",
   "mimetype": "text/x-python",
   "name": "python",
   "nbconvert_exporter": "python",
   "pygments_lexer": "ipython3",
   "version": "3.6.7"
  }
 },
 "nbformat": 4,
 "nbformat_minor": 2
}
