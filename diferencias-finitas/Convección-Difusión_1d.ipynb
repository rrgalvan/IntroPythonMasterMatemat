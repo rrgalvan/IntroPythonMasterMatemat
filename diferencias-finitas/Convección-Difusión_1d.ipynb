{
 "cells": [
  {
   "cell_type": "markdown",
   "metadata": {},
   "source": [
    "Calcular $u:[a,b] \\to \\mathbb R$ solución de\n",
    "\\begin{align}\n",
    "  \\label{pb.conveccion-difusion-1d}\n",
    "  c \\cdot u'(x) - u''(x) = f(x), \\quad x\\in[a,b], \\\\\n",
    "  u(a)=u_a, \\ u(b)=u_b,\n",
    "\\end{align}\n"
   ]
  },
  {
   "cell_type": "code",
   "execution_count": 1,
   "metadata": {},
   "outputs": [
    {
     "data": {
      "application/vnd.jupyter.widget-view+json": {
       "model_id": "d6a0acf3711145d088452cef21539b8a",
       "version_major": 2,
       "version_minor": 0
      },
      "text/plain": [
       "interactive(children=(IntSlider(value=0, description='c', max=200, step=10), IntSlider(value=21, description='…"
      ]
     },
     "metadata": {},
     "output_type": "display_data"
    },
    {
     "data": {
      "text/plain": [
       "<function __main__.solución(c=0, n=21)>"
      ]
     },
     "execution_count": 1,
     "metadata": {},
     "output_type": "execute_result"
    }
   ],
   "source": [
    "from numpy import diag, ones, linspace, array\n",
    "import ipywidgets\n",
    "\n",
    "def conv_difus_1d(f, c, ua, ub, n, a=0, b=1):\n",
    "    \"\"\"\n",
    "    Esta función resuelve el problema de convección-difusión 1d\n",
    "        c u' - u''  = f     en [a,b]\n",
    "        u(a) = ua\n",
    "        u(b) = ub\n",
    "    mediante el método de las diferencias finitas sobre n+1 intervalos\n",
    "    \"\"\"\n",
    "    h = (b-a)/(n+1) # Tamaño de la partición\n",
    "        # 1. Matriz\n",
    "        \n",
    "\n",
    "    c0 = 2  # Diagonal coefficient a_{ii}\n",
    "    c_minus = -h*c/2 - 1 # Under-diagonal coefficient a_{i-1,i}\n",
    "    c_plus  =  h*c/2 - 1\n",
    "\n",
    "    A_h = (1./h**2) * (\n",
    "            c0 * diag( ones(n) ) \n",
    "            + c_plus * diag( ones(n-1), +1 ) \n",
    "            + c_minus * diag( ones(n-1), -1 )\n",
    "            )    \n",
    "        \n",
    "    # 2. Segundo miembro\n",
    "    f_h = []\n",
    "    x = linspace(0, 1, num=n+2) # x_0, ..., x_{n-1}\n",
    "    x_interior = x[1:n+1]\n",
    "    \n",
    "    f_h = f(x_interior) # f_h es el array resultante de aplicar f a cada elmento del array x\n",
    "    f_h[0]  += ua/h**2 + c*ua/(2*h)\n",
    "    f_h[-1] += ub/h**2 - c*ub/(2*h)\n",
    "    \n",
    "    # 3. Resolver sistema\n",
    "    from numpy.linalg import solve\n",
    "    u_h = solve(A_h, f_h)\n",
    "\n",
    "    # Concatenamos la solución con los datos en los extremos del intervalo\n",
    "    u = array( [ua] + list(u_h) + [ub] )\n",
    "    \n",
    "    # Devolvemos la partición x y la solución obtenida\n",
    "    return x, u\n",
    "\n",
    "def solución(c=0,n=21):\n",
    "    f = lambda x: -2 + 0*x\n",
    "    x_h, u_h = conv_difus_1d(f, c, ua=0, ub=0, n=n)\n",
    "\n",
    "    from matplotlib.pylab import plot, show, grid, legend\n",
    "    plot(x_h, u_h, label=\"Solución aproximada\", linewidth=3, color=\"green\")\n",
    "    grid()\n",
    "    legend()\n",
    "    show()\n",
    "    \n",
    "ipywidgets.interact( solución, c=(0,200,10), n=(1,81,2))\n",
    "#solución(-10000)"
   ]
  },
  {
   "cell_type": "code",
   "execution_count": 3,
   "metadata": {
    "scrolled": false
   },
   "outputs": [
    {
     "data": {
      "application/vnd.jupyter.widget-view+json": {
       "model_id": "3603e8c0a0f444d897912ba39f79cf53",
       "version_major": 2,
       "version_minor": 0
      },
      "text/plain": [
       "interactive(children=(IntSlider(value=0, description='c', max=200, step=10), IntSlider(value=21, description='…"
      ]
     },
     "metadata": {},
     "output_type": "display_data"
    },
    {
     "data": {
      "text/plain": [
       "<function __main__.solución(c=0, n=21)>"
      ]
     },
     "execution_count": 3,
     "metadata": {},
     "output_type": "execute_result"
    }
   ],
   "source": [
    "from numpy import sign\n",
    "\n",
    "def upwind_conv_difus_1d(f, c, ua, ub, n, a=0, b=1):\n",
    "    \"\"\"\n",
    "    Esta función resuelve el problema de convección-difusión 1d\n",
    "        c u' - u''  = f     en [a,b]\n",
    "        u(a) = ua\n",
    "        u(b) = ub\n",
    "    mediante el método de las diferencias finitas sobre n+1 intervalos\n",
    "    \"\"\"\n",
    "    h = (b-a)/(n+1) # Tamaño de la partición\n",
    "    \n",
    "    # 1. Matriz       \n",
    "    if c>0:\n",
    "        c0 = 2 + h*c  # Diagonal coefficient a_{ii}\n",
    "        c_minus = -1 - h*c # Under-diagonal coefficient a_{i-1,i}\n",
    "        c_plus = -1 # Over-diagonal coefficient, a_{i,i+1}\n",
    "    else:\n",
    "        c0 = 2 - h*c  # Diagonal coefficient a_{ii}\n",
    "        c_minus = - 1\n",
    "        c_plus = -1 - h*c\n",
    "\n",
    "    A_h = (1./h**2) * (\n",
    "            c0 * diag( ones(n) ) \n",
    "            + c_plus * diag( ones(n-1), +1 ) \n",
    "            + c_minus * diag( ones(n-1), -1 )\n",
    "            )\n",
    "    # 2. Segundo miembro\n",
    "    f_h = []\n",
    "    x = linspace(0, 1, num=n+2) # x_0, ..., x_{n-1}\n",
    "    x_interior = x[1:n+1]\n",
    "    \n",
    "    f_h = f(x_interior) # f_h es el array resultante de aplicar f a cada elmento del array x\n",
    "    f_h[0]  += ua/h**2 \n",
    "    f_h[-1] += ub/h**2\n",
    "    if c>0:\n",
    "        f_h[0]  += c*ua/h\n",
    "    else:\n",
    "        f_h[-1] -= c*ub/h\n",
    "    \n",
    "    # 3. Resolver sistema\n",
    "    from numpy.linalg import solve\n",
    "    u_h = solve(A_h, f_h)\n",
    "\n",
    "    # Concatenamos la solución con los datos en los extremos del intervalo\n",
    "    u = array( [ua] + list(u_h) + [ub] )\n",
    "    \n",
    "    # Devolvemos la partición x y la solución obtenida\n",
    "    return x, u\n",
    "\n",
    "def solución(c=0,n=21):\n",
    "    f = lambda x: -2 + 0*x\n",
    "    x_h, u_h = upwind_conv_difus_1d(f, c, ua=0, ub=0, n=int(n))\n",
    "\n",
    "    from matplotlib.pylab import plot, show, grid, legend\n",
    "    plot(x_h, u_h, label=\"Solución aproximada\", linewidth=3, color=\"green\")\n",
    "    grid()\n",
    "    legend()\n",
    "    show()\n",
    "\n",
    "#solución(c=2,n=1)\n",
    "ipywidgets.interact( solución, c=(0,200,10), n=(1,100,1))\n"
   ]
  },
  {
   "cell_type": "code",
   "execution_count": null,
   "metadata": {},
   "outputs": [],
   "source": []
  }
 ],
 "metadata": {
  "kernelspec": {
   "display_name": "Python 3",
   "language": "python",
   "name": "python3"
  },
  "language_info": {
   "codemirror_mode": {
    "name": "ipython",
    "version": 3
   },
   "file_extension": ".py",
   "mimetype": "text/x-python",
   "name": "python",
   "nbconvert_exporter": "python",
   "pygments_lexer": "ipython3",
   "version": "3.6.7"
  }
 },
 "nbformat": 4,
 "nbformat_minor": 2
}
