{
 "cells": [
  {
   "cell_type": "markdown",
   "metadata": {},
   "source": [
    "# Python Simbólico para hallar soluciones exactas \n",
    "\n",
    "Vamos a usar el paquete ``sympy`` para obtener soluciones exactas de un sistema de EDP formado formado por la ecuación de Laplace y condiciones de contorno Dirichlet en un dominio $[a,b]\\subset\\mathbb{R}$"
   ]
  },
  {
   "cell_type": "code",
   "execution_count": 1,
   "metadata": {},
   "outputs": [],
   "source": [
    "from sympy import init_printing\n",
    "init_printing()"
   ]
  },
  {
   "cell_type": "code",
   "execution_count": 2,
   "metadata": {},
   "outputs": [
    {
     "data": {
      "image/png": "[encoded data removed]",
      "text/latex": [
       "$$\\frac{1}{2} + \\frac{\\sqrt{3}}{3}$$"
      ],
      "text/plain": [
       "1   √3\n",
       "─ + ──\n",
       "2   3 "
      ]
     },
     "execution_count": 2,
     "metadata": {},
     "output_type": "execute_result"
    }
   ],
   "source": [
    "from sympy import symbols, exp, sqrt, S\n",
    "x,y,z,t = symbols(\"x y z t\")\n",
    "\n",
    "1/sqrt(3) + S(1)/2"
   ]
  },
  {
   "cell_type": "code",
   "execution_count": 3,
   "metadata": {},
   "outputs": [
    {
     "data": {
      "image/png": "[encoded data removed]",
      "text/latex": [
       "$$x^{2} - 1$$"
      ],
      "text/plain": [
       " 2    \n",
       "x  - 1"
      ]
     },
     "execution_count": 3,
     "metadata": {},
     "output_type": "execute_result"
    }
   ],
   "source": [
    "import sympy as sym\n",
    "expr = sym.expand((x-1)*(x+1))\n",
    "expr"
   ]
  },
  {
   "cell_type": "code",
   "execution_count": 4,
   "metadata": {},
   "outputs": [
    {
     "data": {
      "image/png": "[encoded data removed]",
      "text/latex": [
       "$$\\left(x - 1\\right) \\left(x + 1\\right)$$"
      ],
      "text/plain": [
       "(x - 1)⋅(x + 1)"
      ]
     },
     "execution_count": 4,
     "metadata": {},
     "output_type": "execute_result"
    }
   ],
   "source": [
    "sym.factor(expr)"
   ]
  },
  {
   "cell_type": "code",
   "execution_count": 5,
   "metadata": {},
   "outputs": [
    {
     "data": {
      "image/png": "[encoded data removed]",
      "text/latex": [
       "$$0$$"
      ],
      "text/plain": [
       "0"
      ]
     },
     "execution_count": 5,
     "metadata": {},
     "output_type": "execute_result"
    }
   ],
   "source": [
    "expr.subs(x,1)"
   ]
  },
  {
   "cell_type": "code",
   "execution_count": 6,
   "metadata": {},
   "outputs": [
    {
     "data": {
      "image/png": "[encoded data removed]",
      "text/latex": [
       "$$\\sin{\\left (x^{2} \\right )}$$"
      ],
      "text/plain": [
       "   ⎛ 2⎞\n",
       "sin⎝x ⎠"
      ]
     },
     "execution_count": 6,
     "metadata": {},
     "output_type": "execute_result"
    }
   ],
   "source": [
    "# Solución exacta\n",
    "u_e = sym.symbols(\"u_e\")\n",
    "u_e = sym.sin(x**2)\n",
    "u_e"
   ]
  },
  {
   "cell_type": "code",
   "execution_count": 7,
   "metadata": {},
   "outputs": [
    {
     "data": {
      "image/png": "[encoded data removed]",
      "text/latex": [
       "$$2 \\left(- 2 x^{2} \\sin{\\left (x^{2} \\right )} + \\cos{\\left (x^{2} \\right )}\\right)$$"
      ],
      "text/plain": [
       "  ⎛     2    ⎛ 2⎞      ⎛ 2⎞⎞\n",
       "2⋅⎝- 2⋅x ⋅sin⎝x ⎠ + cos⎝x ⎠⎠"
      ]
     },
     "execution_count": 7,
     "metadata": {},
     "output_type": "execute_result"
    }
   ],
   "source": [
    "f = sym.diff(u_e,x,2)\n",
    "f"
   ]
  },
  {
   "cell_type": "code",
   "execution_count": 8,
   "metadata": {},
   "outputs": [
    {
     "data": {
      "image/png": "[encoded data removed]",
      "text/latex": [
       "$$0$$"
      ],
      "text/plain": [
       "0"
      ]
     },
     "execution_count": 8,
     "metadata": {},
     "output_type": "execute_result"
    }
   ],
   "source": [
    "a, b = 0, 1\n",
    "ua = u_e.subs(x,a)\n",
    "ua"
   ]
  },
  {
   "cell_type": "code",
   "execution_count": 9,
   "metadata": {},
   "outputs": [
    {
     "data": {
      "image/png": "[encoded data removed]",
      "text/latex": [
       "$$\\sin{\\left (1 \\right )}$$"
      ],
      "text/plain": [
       "sin(1)"
      ]
     },
     "execution_count": 9,
     "metadata": {},
     "output_type": "execute_result"
    }
   ],
   "source": [
    "ub = u_e.subs(x,b)\n",
    "ub"
   ]
  },
  {
   "cell_type": "markdown",
   "metadata": {},
   "source": [
    "### Uso de funciones simbólicas en código Python \"usual\"\n",
    "\n",
    "Las expresiones simbólicas obtenidas tendrán que ser usadas en código python usual (no simbólico). En particular, queremos usar las funciones con objetos de Numpy.\n",
    "\n",
    "Vamos a convertir la función simbólica obtenida anteriormente en una *función labmda* de Python. Para ello, usamos la función **lambdify** contenida en ``sympy``:"
   ]
  },
  {
   "cell_type": "code",
   "execution_count": 10,
   "metadata": {},
   "outputs": [
    {
     "data": {
      "text/plain": [
       "array([ 2.        ,  1.99996163,  1.99938614,  1.99689258,  1.99018099,\n",
       "        1.97603799,  1.95035076,  1.90813566,  1.84358935,  1.75017177,\n",
       "        1.62073173,  1.44768674,  1.2232692 ,  0.93985054,  0.59035365,\n",
       "        0.16876102, -0.32927832, -0.90574651, -1.55947118, -2.28527933])"
      ]
     },
     "execution_count": 10,
     "metadata": {},
     "output_type": "execute_result"
    }
   ],
   "source": [
    "# f (simbólica) -> f_h (numpy)\n",
    "f_h = sym.lambdify(x, f)\n",
    "\n",
    "# Ahora, podemos usar f_h sobre objetos de numpy:\n",
    "\n",
    "import numpy as np\n",
    "x_h = np.linspace(0,1,20) # Array con 20 elementos equiespaciados\n",
    "f_h(x_h)"
   ]
  },
  {
   "cell_type": "code",
   "execution_count": null,
   "metadata": {},
   "outputs": [],
   "source": []
  }
 ],
 "metadata": {
  "kernelspec": {
   "display_name": "Python 3",
   "language": "python",
   "name": "python3"
  },
  "language_info": {
   "codemirror_mode": {
    "name": "ipython",
    "version": 3
   },
   "file_extension": ".py",
   "mimetype": "text/x-python",
   "name": "python",
   "nbconvert_exporter": "python",
   "pygments_lexer": "ipython3",
   "version": "3.6.7"
  }
 },
 "nbformat": 4,
 "nbformat_minor": 2
}
